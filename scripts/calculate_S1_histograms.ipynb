{
 "cells": [
  {
   "cell_type": "code",
   "execution_count": 1,
   "id": "e46af49d-d504-4961-b733-c1e171b38f1e",
   "metadata": {},
   "outputs": [],
   "source": [
    "import relative_imports"
   ]
  },
  {
   "cell_type": "code",
   "execution_count": 2,
   "id": "1a5733fa-20cf-4081-b056-87ebcc45f635",
   "metadata": {},
   "outputs": [],
   "source": [
    "import sys\n",
    "sys.path.insert(1, \"/HOME1/users/students/shvl/projects/spatiotemporal\")\n",
    "\n",
    "%matplotlib ipympl\n",
    "\n",
    "from spatiotemporal.SEN12MSCRTS import DatasetManager, ImageUtils\n",
    "from torch_datasets.minimal_dataset import S1Dataset\n",
    "from tqdm.notebook import tqdm\n",
    "import matplotlib as mpl\n",
    "from matplotlib import pyplot as plt\n",
    "import numpy as np\n",
    "import pandas as pd\n",
    "from ipywidgets import interact, interactive, fixed, interact_manual\n",
    "import ipywidgets as widgets\n",
    "from os.path import join\n",
    "from torch.utils.data import DataLoader\n",
    "import xarray as xr"
   ]
  },
  {
   "cell_type": "code",
   "execution_count": 3,
   "id": "a73c2e0e-c683-415d-a7cc-b36c1f4e5e50",
   "metadata": {},
   "outputs": [],
   "source": [
    "root_dir='/LOCAL2/shvl/datasets/cloud_removal/SEN12MSCRTS'\n",
    "cloud_maps_dir=\"/LOCAL2/shvl/datasets/cloud_removal/SEN12MSCRTS_cloud_maps\"\n",
    "cloud_histograms_csv = join(cloud_maps_dir, \"cloud_histograms.csv\")"
   ]
  },
  {
   "cell_type": "code",
   "execution_count": 4,
   "id": "0ec22a72-a656-42a4-9e3f-6f078a53f04e",
   "metadata": {},
   "outputs": [],
   "source": [
    "dataset_manager = DatasetManager(\n",
    "    root_dir=root_dir,\n",
    "    cloud_maps_dir=cloud_maps_dir\n",
    ")"
   ]
  },
  {
   "cell_type": "code",
   "execution_count": 5,
   "id": "03688169-db1d-44ff-acbf-edc7f697fc60",
   "metadata": {},
   "outputs": [],
   "source": [
    "dataset_manager_path = join(dataset_manager.project_directory, \"config\", \"dataset_manager.csv\")\n",
    "\n",
    "# dataset_manager.load_dataset()\n",
    "# dataset_manager.save_to_file(dataset_manager_path)\n",
    "dataset_manager.load_from_file(dataset_manager_path)"
   ]
  },
  {
   "cell_type": "code",
   "execution_count": 6,
   "id": "d2c7bcc7-55fa-4c27-9404-07817425a772",
   "metadata": {},
   "outputs": [
    {
     "data": {
      "text/plain": [
       "(array([-50.  , -49.99, -49.98, ...,   9.98,   9.99,  10.  ]), (6001,))"
      ]
     },
     "execution_count": 6,
     "metadata": {},
     "output_type": "execute_result"
    }
   ],
   "source": [
    "leftmost_edge = -50\n",
    "rightmost_edge = 10\n",
    "n_bins = 6000\n",
    "\n",
    "bins = np.linspace(start=leftmost_edge, stop=rightmost_edge, num=n_bins+1)\n",
    "bins, bins.shape"
   ]
  },
  {
   "cell_type": "markdown",
   "id": "cce43caf-59df-42df-be78-464df3b1cbee",
   "metadata": {},
   "source": [
    "# Process single batch"
   ]
  },
  {
   "cell_type": "code",
   "execution_count": 7,
   "id": "df269b8c-2d08-46ee-8841-edb414759436",
   "metadata": {},
   "outputs": [],
   "source": [
    "dataset = S1Dataset(dataset_manager=dataset_manager, mode=\"train\")"
   ]
  },
  {
   "cell_type": "code",
   "execution_count": 8,
   "id": "7da764cc-3645-47e3-8b4b-bd8ced701a85",
   "metadata": {},
   "outputs": [],
   "source": [
    "data_loader = DataLoader(\n",
    "    dataset,\n",
    "    batch_size=64,\n",
    "    shuffle=False,\n",
    "    # num_workers=32,\n",
    "    collate_fn=dataset.collate_fn,\n",
    "    # prefetch_factor=2\n",
    ")"
   ]
  },
  {
   "cell_type": "code",
   "execution_count": 9,
   "id": "196f2d79-955c-4468-a5aa-8f88bcb10df5",
   "metadata": {},
   "outputs": [],
   "source": [
    "iterator = iter(data_loader)\n",
    "batch = next(iterator)"
   ]
  },
  {
   "cell_type": "code",
   "execution_count": 10,
   "id": "c10ed508-0758-4f2f-b204-5c190f889227",
   "metadata": {},
   "outputs": [
    {
     "data": {
      "text/plain": [
       "((64, 2, 256, 256), -47.250596149684505, 6.701925574540008)"
      ]
     },
     "execution_count": 10,
     "metadata": {},
     "output_type": "execute_result"
    }
   ],
   "source": [
    "image = batch[\"S1_image\"]\n",
    "\n",
    "image.shape, image.min(), image.max()"
   ]
  },
  {
   "cell_type": "code",
   "execution_count": 11,
   "id": "4970cc26-9379-4fa1-a4c1-c9a299b53d46",
   "metadata": {},
   "outputs": [
    {
     "data": {
      "text/plain": [
       "((64, 2, 256, 256), -47.250596149684505, 6.701925574540008)"
      ]
     },
     "execution_count": 11,
     "metadata": {},
     "output_type": "execute_result"
    }
   ],
   "source": [
    "image = np.clip(image, a_min=-50, a_max=10)\n",
    "image.shape, image.min(), image.max()"
   ]
  },
  {
   "cell_type": "code",
   "execution_count": 12,
   "id": "76502c62-26eb-4add-a93b-2ab60b27b5b5",
   "metadata": {},
   "outputs": [
    {
     "data": {
      "text/plain": [
       "((2, 6000), dtype('int64'))"
      ]
     },
     "execution_count": 12,
     "metadata": {},
     "output_type": "execute_result"
    }
   ],
   "source": [
    "batch_histogram = np.stack([\n",
    "    np.histogram(image[:, 0], bins=bins)[0],\n",
    "    np.histogram(image[:, 1], bins=bins)[0]\n",
    "])\n",
    "\n",
    "batch_histogram.shape, batch_histogram.dtype"
   ]
  },
  {
   "cell_type": "code",
   "execution_count": 13,
   "id": "c1270f7c-aef1-4821-b473-5420b86aca6a",
   "metadata": {},
   "outputs": [],
   "source": [
    "with plt.ioff():\n",
    "    fig_1, axs_1 = plt.subplots(figsize=(13, 5))"
   ]
  },
  {
   "cell_type": "code",
   "execution_count": 14,
   "id": "0734853d-050c-4b10-b5c8-5414b1f99b2d",
   "metadata": {},
   "outputs": [
    {
     "data": {
      "text/plain": [
       "<matplotlib.legend.Legend at 0x7f231f2ea4f0>"
      ]
     },
     "execution_count": 14,
     "metadata": {},
     "output_type": "execute_result"
    }
   ],
   "source": [
    "stairplot_1_VV = axs_1.stairs(\n",
    "    values=batch_histogram[0],\n",
    "    edges=bins,\n",
    "    alpha=0.5,\n",
    "    color=\"lightsteelblue\",\n",
    "    edgecolor=\"steelblue\",\n",
    "    fill=True,\n",
    "    linewidth=0.5,\n",
    "    label=\"VV\"\n",
    ")\n",
    "stairplot_1_VH = axs_1.stairs(\n",
    "    values=batch_histogram[1],\n",
    "    edges=bins,\n",
    "    alpha=0.5,\n",
    "    color=\"orange\",\n",
    "    edgecolor=\"red\",\n",
    "    fill=True,\n",
    "    linewidth=0.5,\n",
    "    label=\"VH\"\n",
    ")\n",
    "axs_1.set_ylabel(\"N pixels\")\n",
    "axs_1.set_xlabel(\"Backscatter [dB]\")\n",
    "axs_1.set_title(f\"Sentinel-1 histogram (single batch)\", fontsize=14)\n",
    "axs_1.legend(title=\"Polarization\")"
   ]
  },
  {
   "cell_type": "code",
   "execution_count": 15,
   "id": "5b56d150-b67e-44c7-8b90-45ac4d0c3a58",
   "metadata": {},
   "outputs": [
    {
     "data": {
      "image/png": "[encoded data removed]",
      "text/plain": [
       "<Figure size 1300x500 with 1 Axes>"
      ]
     },
     "metadata": {},
     "output_type": "display_data"
    }
   ],
   "source": [
    "display(fig_1)"
   ]
  },
  {
   "cell_type": "code",
   "execution_count": 15,
   "id": "ff88775b-10e9-47c9-9f03-3091f9112ad2",
   "metadata": {},
   "outputs": [],
   "source": [
    "plt.close(fig_1)"
   ]
  },
  {
   "cell_type": "markdown",
   "id": "318dab41-3c35-41d8-8eb6-fabfcbf38b4e",
   "metadata": {},
   "source": [
    "# Create dataset for parallel histogram calculation"
   ]
  },
  {
   "cell_type": "code",
   "execution_count": 7,
   "id": "01ae668d-e9ec-41de-901a-4a5a7d36c6a3",
   "metadata": {},
   "outputs": [],
   "source": [
    "class S1HistogramDataset(S1Dataset):\n",
    "\n",
    "    leftmost_edge = -50\n",
    "    rightmost_edge = 10\n",
    "    n_bins = 6000\n",
    "    \n",
    "    bins = np.linspace(start=leftmost_edge, stop=rightmost_edge, num=n_bins+1)\n",
    "    \n",
    "    bin_size = (rightmost_edge - leftmost_edge) / n_bins\n",
    "    left_bin_edges = bins[:-1]\n",
    "    right_bin_edges = bins[1:]\n",
    "    mean_bin_value = left_bin_edges + bin_size/2\n",
    "    \n",
    "    def __init__(self, dataset_manager, mode):\n",
    "        super().__init__(dataset_manager=dataset_manager, mode=mode)\n",
    "\n",
    "    def __getitem__(self, idx):\n",
    "        sample = super().__getitem__(idx)\n",
    "        histogram = self.histogram(sample)\n",
    "        sample[\"histogram\"] = histogram\n",
    "        return sample\n",
    "\n",
    "    def histogram(self, sample):\n",
    "        image = sample[\"S1_image\"]\n",
    "        nans = np.isnan(image)\n",
    "        \n",
    "        if nans.any():\n",
    "            image[nans] = self.leftmost_edge\n",
    "        \n",
    "        image = np.clip(image, a_min=self.leftmost_edge, a_max=self.rightmost_edge)\n",
    "\n",
    "        return np.stack([\n",
    "            np.histogram(image[0], bins=self.bins)[0],\n",
    "            np.histogram(image[1], bins=self.bins)[0]\n",
    "        ])\n",
    "\n",
    "    def collate_fn(self, list_of_samples):\n",
    "        histogram = np.sum([sample[\"histogram\"] for sample in list_of_samples], axis=0)\n",
    "        result = super().collate_fn(list_of_samples)\n",
    "        result[\"histogram\"] = histogram\n",
    "        return result"
   ]
  },
  {
   "cell_type": "markdown",
   "id": "79f55ecc-c8a5-485c-9f2f-e78563d8b117",
   "metadata": {},
   "source": [
    "### Perform some tests"
   ]
  },
  {
   "cell_type": "code",
   "execution_count": 16,
   "id": "2a73b971-bd33-417c-ba55-71a12542b225",
   "metadata": {},
   "outputs": [],
   "source": [
    "dataset = S1Dataset(dataset_manager=dataset_manager, mode=\"train\")\n",
    "histogram_dataset = S1HistogramDataset(dataset_manager=dataset_manager, mode=\"train\")"
   ]
  },
  {
   "cell_type": "code",
   "execution_count": 17,
   "id": "82e6c031-d8f7-431c-b13c-041ecb54cae1",
   "metadata": {},
   "outputs": [],
   "source": [
    "data_loader = DataLoader(\n",
    "    dataset,\n",
    "    batch_size=64,\n",
    "    shuffle=False,\n",
    "    # num_workers=32,\n",
    "    collate_fn=dataset.collate_fn,\n",
    "    # prefetch_factor=2\n",
    ")\n",
    "histogram_data_loader = DataLoader(\n",
    "    histogram_dataset,\n",
    "    batch_size=64,\n",
    "    shuffle=False,\n",
    "    # num_workers=32,\n",
    "    collate_fn=histogram_dataset.collate_fn,\n",
    "    # prefetch_factor=2\n",
    ")"
   ]
  },
  {
   "cell_type": "code",
   "execution_count": 18,
   "id": "ae7c42f2-f94b-448e-bd6a-51ca8de96f77",
   "metadata": {},
   "outputs": [],
   "source": [
    "batch = next(iter(data_loader))\n",
    "histogram_batch = next(iter(histogram_data_loader))"
   ]
  },
  {
   "cell_type": "code",
   "execution_count": 19,
   "id": "240deeac-c499-4df9-9e1c-bd49cb366c56",
   "metadata": {},
   "outputs": [],
   "source": [
    "batch_image = batch[\"S1_image\"]\n",
    "batch_nans = np.isnan(batch_image)\n",
    "\n",
    "if batch_nans.any():\n",
    "    batch_image[batch_nans] = leftmost_edge\n",
    "\n",
    "batch_image = np.clip(batch_image, a_min=leftmost_edge, a_max=rightmost_edge)\n",
    "\n",
    "batch_histogram = np.stack([\n",
    "    np.histogram(batch_image[:, 0], bins=bins)[0],\n",
    "    np.histogram(batch_image[:, 1], bins=bins)[0]\n",
    "])\n",
    "\n",
    "batch_histogram.shape"
   ]
  },
  {
   "cell_type": "code",
   "execution_count": 20,
   "id": "e8ce7969-f64e-45a5-8ef9-e5755f60bb97",
   "metadata": {},
   "outputs": [],
   "source": [
    "# check if both produce the same result\n",
    "assert (batch_histogram == histogram_batch[\"histogram\"]).all()"
   ]
  },
  {
   "cell_type": "markdown",
   "id": "f004f55d-c974-4803-90ee-67278c90af86",
   "metadata": {},
   "source": [
    "# Process the whole dataset"
   ]
  },
  {
   "cell_type": "code",
   "execution_count": 21,
   "id": "e084e1e7-9667-4584-a641-1e1d9141aed4",
   "metadata": {},
   "outputs": [],
   "source": [
    "histogram_dataset = S1HistogramDataset(dataset_manager=dataset_manager, mode=\"train\")"
   ]
  },
  {
   "cell_type": "code",
   "execution_count": 22,
   "id": "824501ca-b0ac-46ca-afc0-1f69e0cac15c",
   "metadata": {},
   "outputs": [],
   "source": [
    "assert 256 * 256 * len(histogram_dataset) < np.iinfo(np.int64).max"
   ]
  },
  {
   "cell_type": "code",
   "execution_count": 23,
   "id": "0e45b3e9-c252-4df2-ad37-d621364b1d2b",
   "metadata": {},
   "outputs": [],
   "source": [
    "histogram_data_loader = DataLoader(\n",
    "    histogram_dataset,\n",
    "    batch_size=64,\n",
    "    shuffle=False,\n",
    "    num_workers=64,\n",
    "    collate_fn=histogram_dataset.collate_fn,\n",
    "    prefetch_factor=2\n",
    ")"
   ]
  },
  {
   "cell_type": "code",
   "execution_count": 8,
   "id": "f236c6ee-08f3-4c56-af2f-cef4f234175b",
   "metadata": {},
   "outputs": [],
   "source": [
    "dataset_histogram = np.zeros(\n",
    "    (\n",
    "        2,\n",
    "        S1HistogramDataset.bins.size-1\n",
    "    ),\n",
    "    dtype=np.int64\n",
    ")\n",
    "dataset_histogram.shape, dataset_histogram.dtype"
   ]
  },
  {
   "cell_type": "code",
   "execution_count": 53,
   "id": "064f0f19-d722-476d-ba5e-75a1b9f5620a",
   "metadata": {},
   "outputs": [],
   "source": [
    "try:\n",
    "    for batch in tqdm(histogram_data_loader, desc=\"Calculating dataset histogram\", unit=\" batch\"):\n",
    "\n",
    "        dataset_histogram += batch[\"histogram\"]\n",
    "        \n",
    "except KeyboardInterrupt:\n",
    "    pass"
   ]
  },
  {
   "cell_type": "code",
   "execution_count": 25,
   "id": "afe01835-8652-498a-b77c-a1923c6d4cfd",
   "metadata": {},
   "outputs": [],
   "source": [
    "dataset_histogram_xr = xr.DataArray(\n",
    "    data=dataset_histogram,\n",
    "    dims=[\"Polarization\", \"Backscatter\"],\n",
    "    coords={\n",
    "        \"Polarization\": (\"Polarization\", [\"VV\", \"VH\"]),\n",
    "        \"Backscatter\": (\"Backscatter\", histogram_dataset.mean_bin_value),\n",
    "        \"left_bin_edge\": (\"Backscatter\", histogram_dataset.left_bin_edges),\n",
    "        \"right_bin_edge\": (\"Backscatter\", histogram_dataset.right_bin_edges)\n",
    "    },\n",
    "    name=\"Sentinel-1 histogram [dB]\",\n",
    "    attrs={\"subset\": \"train\"}\n",
    ")\n",
    "dataset_histogram_xr = dataset_histogram_xr.to_dataset()\n",
    "\n",
    "dataset_histogram_xr"
   ]
  },
  {
   "cell_type": "code",
   "execution_count": 33,
   "id": "0264acbd-b2e5-4628-a976-c6eeb57a9572",
   "metadata": {},
   "outputs": [],
   "source": [
    "dataset_histogram_xr.to_netcdf(\n",
    "    path=join(dataset_manager.project_directory, \"stats\", \"S1_train_dataset_histogram.nc\"), \n",
    "    encoding={'Sentinel-1 histogram [dB]':{'dtype': 'int32'}}\n",
    ")"
   ]
  },
  {
   "cell_type": "markdown",
   "id": "0bbd6226-2a67-44fd-aeb5-9c77b91fee75",
   "metadata": {},
   "source": [
    "# Load histograms from drive and plot results"
   ]
  },
  {
   "cell_type": "code",
   "execution_count": 16,
   "id": "cffff22f-3393-47be-8b87-fec495a1674c",
   "metadata": {},
   "outputs": [
    {
     "data": {
      "text/html": [
       "<div><svg style=\"position: absolute; width: 0; height: 0; overflow: hidden\">\n",
       "<defs>\n",
       "<symbol id=\"icon-database\" viewBox=\"0 0 32 32\">\n",
       "<path d=\"M16 0c-8.837 0-16 2.239-16 5v4c0 2.761 7.163 5 16 5s16-2.239 16-5v-4c0-2.761-7.163-5-16-5z\"></path>\n",
       "<path d=\"M16 17c-8.837 0-16-2.239-16-5v6c0 2.761 7.163 5 16 5s16-2.239 16-5v-6c0 2.761-7.163 5-16 5z\"></path>\n",
       "<path d=\"M16 26c-8.837 0-16-2.239-16-5v6c0 2.761 7.163 5 16 5s16-2.239 16-5v-6c0 2.761-7.163 5-16 5z\"></path>\n",
       "</symbol>\n",
       "<symbol id=\"icon-file-text2\" viewBox=\"0 0 32 32\">\n",
       "<path d=\"M28.681 7.159c-0.694-0.947-1.662-2.053-2.724-3.116s-2.169-2.030-3.116-2.724c-1.612-1.182-2.393-1.319-2.841-1.319h-15.5c-1.378 0-2.5 1.121-2.5 2.5v27c0 1.378 1.122 2.5 2.5 2.5h23c1.378 0 2.5-1.122 2.5-2.5v-19.5c0-0.448-0.137-1.23-1.319-2.841zM24.543 5.457c0.959 0.959 1.712 1.825 2.268 2.543h-4.811v-4.811c0.718 0.556 1.584 1.309 2.543 2.268zM28 29.5c0 0.271-0.229 0.5-0.5 0.5h-23c-0.271 0-0.5-0.229-0.5-0.5v-27c0-0.271 0.229-0.5 0.5-0.5 0 0 15.499-0 15.5 0v7c0 0.552 0.448 1 1 1h7v19.5z\"></path>\n",
       "<path d=\"M23 26h-14c-0.552 0-1-0.448-1-1s0.448-1 1-1h14c0.552 0 1 0.448 1 1s-0.448 1-1 1z\"></path>\n",
       "<path d=\"M23 22h-14c-0.552 0-1-0.448-1-1s0.448-1 1-1h14c0.552 0 1 0.448 1 1s-0.448 1-1 1z\"></path>\n",
       "<path d=\"M23 18h-14c-0.552 0-1-0.448-1-1s0.448-1 1-1h14c0.552 0 1 0.448 1 1s-0.448 1-1 1z\"></path>\n",
       "</symbol>\n",
       "</defs>\n",
       "</svg>\n",
       "<style>/* CSS stylesheet for displaying xarray objects in jupyterlab.\n",
       " *\n",
       " */\n",
       "\n",
       ":root {\n",
       "  --xr-font-color0: var(--jp-content-font-color0, rgba(0, 0, 0, 1));\n",
       "  --xr-font-color2: var(--jp-content-font-color2, rgba(0, 0, 0, 0.54));\n",
       "  --xr-font-color3: var(--jp-content-font-color3, rgba(0, 0, 0, 0.38));\n",
       "  --xr-border-color: var(--jp-border-color2, #e0e0e0);\n",
       "  --xr-disabled-color: var(--jp-layout-color3, #bdbdbd);\n",
       "  --xr-background-color: var(--jp-layout-color0, white);\n",
       "  --xr-background-color-row-even: var(--jp-layout-color1, white);\n",
       "  --xr-background-color-row-odd: var(--jp-layout-color2, #eeeeee);\n",
       "}\n",
       "\n",
       "html[theme=dark],\n",
       "body[data-theme=dark],\n",
       "body.vscode-dark {\n",
       "  --xr-font-color0: rgba(255, 255, 255, 1);\n",
       "  --xr-font-color2: rgba(255, 255, 255, 0.54);\n",
       "  --xr-font-color3: rgba(255, 255, 255, 0.38);\n",
       "  --xr-border-color: #1F1F1F;\n",
       "  --xr-disabled-color: #515151;\n",
       "  --xr-background-color: #111111;\n",
       "  --xr-background-color-row-even: #111111;\n",
       "  --xr-background-color-row-odd: #313131;\n",
       "}\n",
       "\n",
       ".xr-wrap {\n",
       "  display: block !important;\n",
       "  min-width: 300px;\n",
       "  max-width: 700px;\n",
       "}\n",
       "\n",
       ".xr-text-repr-fallback {\n",
       "  /* fallback to plain text repr when CSS is not injected (untrusted notebook) */\n",
       "  display: none;\n",
       "}\n",
       "\n",
       ".xr-header {\n",
       "  padding-top: 6px;\n",
       "  padding-bottom: 6px;\n",
       "  margin-bottom: 4px;\n",
       "  border-bottom: solid 1px var(--xr-border-color);\n",
       "}\n",
       "\n",
       ".xr-header > div,\n",
       ".xr-header > ul {\n",
       "  display: inline;\n",
       "  margin-top: 0;\n",
       "  margin-bottom: 0;\n",
       "}\n",
       "\n",
       ".xr-obj-type,\n",
       ".xr-array-name {\n",
       "  margin-left: 2px;\n",
       "  margin-right: 10px;\n",
       "}\n",
       "\n",
       ".xr-obj-type {\n",
       "  color: var(--xr-font-color2);\n",
       "}\n",
       "\n",
       ".xr-sections {\n",
       "  padding-left: 0 !important;\n",
       "  display: grid;\n",
       "  grid-template-columns: 150px auto auto 1fr 20px 20px;\n",
       "}\n",
       "\n",
       ".xr-section-item {\n",
       "  display: contents;\n",
       "}\n",
       "\n",
       ".xr-section-item input {\n",
       "  display: none;\n",
       "}\n",
       "\n",
       ".xr-section-item input + label {\n",
       "  color: var(--xr-disabled-color);\n",
       "}\n",
       "\n",
       ".xr-section-item input:enabled + label {\n",
       "  cursor: pointer;\n",
       "  color: var(--xr-font-color2);\n",
       "}\n",
       "\n",
       ".xr-section-item input:enabled + label:hover {\n",
       "  color: var(--xr-font-color0);\n",
       "}\n",
       "\n",
       ".xr-section-summary {\n",
       "  grid-column: 1;\n",
       "  color: var(--xr-font-color2);\n",
       "  font-weight: 500;\n",
       "}\n",
       "\n",
       ".xr-section-summary > span {\n",
       "  display: inline-block;\n",
       "  padding-left: 0.5em;\n",
       "}\n",
       "\n",
       ".xr-section-summary-in:disabled + label {\n",
       "  color: var(--xr-font-color2);\n",
       "}\n",
       "\n",
       ".xr-section-summary-in + label:before {\n",
       "  display: inline-block;\n",
       "  content: '►';\n",
       "  font-size: 11px;\n",
       "  width: 15px;\n",
       "  text-align: center;\n",
       "}\n",
       "\n",
       ".xr-section-summary-in:disabled + label:before {\n",
       "  color: var(--xr-disabled-color);\n",
       "}\n",
       "\n",
       ".xr-section-summary-in:checked + label:before {\n",
       "  content: '▼';\n",
       "}\n",
       "\n",
       ".xr-section-summary-in:checked + label > span {\n",
       "  display: none;\n",
       "}\n",
       "\n",
       ".xr-section-summary,\n",
       ".xr-section-inline-details {\n",
       "  padding-top: 4px;\n",
       "  padding-bottom: 4px;\n",
       "}\n",
       "\n",
       ".xr-section-inline-details {\n",
       "  grid-column: 2 / -1;\n",
       "}\n",
       "\n",
       ".xr-section-details {\n",
       "  display: none;\n",
       "  grid-column: 1 / -1;\n",
       "  margin-bottom: 5px;\n",
       "}\n",
       "\n",
       ".xr-section-summary-in:checked ~ .xr-section-details {\n",
       "  display: contents;\n",
       "}\n",
       "\n",
       ".xr-array-wrap {\n",
       "  grid-column: 1 / -1;\n",
       "  display: grid;\n",
       "  grid-template-columns: 20px auto;\n",
       "}\n",
       "\n",
       ".xr-array-wrap > label {\n",
       "  grid-column: 1;\n",
       "  vertical-align: top;\n",
       "}\n",
       "\n",
       ".xr-preview {\n",
       "  color: var(--xr-font-color3);\n",
       "}\n",
       "\n",
       ".xr-array-preview,\n",
       ".xr-array-data {\n",
       "  padding: 0 5px !important;\n",
       "  grid-column: 2;\n",
       "}\n",
       "\n",
       ".xr-array-data,\n",
       ".xr-array-in:checked ~ .xr-array-preview {\n",
       "  display: none;\n",
       "}\n",
       "\n",
       ".xr-array-in:checked ~ .xr-array-data,\n",
       ".xr-array-preview {\n",
       "  display: inline-block;\n",
       "}\n",
       "\n",
       ".xr-dim-list {\n",
       "  display: inline-block !important;\n",
       "  list-style: none;\n",
       "  padding: 0 !important;\n",
       "  margin: 0;\n",
       "}\n",
       "\n",
       ".xr-dim-list li {\n",
       "  display: inline-block;\n",
       "  padding: 0;\n",
       "  margin: 0;\n",
       "}\n",
       "\n",
       ".xr-dim-list:before {\n",
       "  content: '(';\n",
       "}\n",
       "\n",
       ".xr-dim-list:after {\n",
       "  content: ')';\n",
       "}\n",
       "\n",
       ".xr-dim-list li:not(:last-child):after {\n",
       "  content: ',';\n",
       "  padding-right: 5px;\n",
       "}\n",
       "\n",
       ".xr-has-index {\n",
       "  font-weight: bold;\n",
       "}\n",
       "\n",
       ".xr-var-list,\n",
       ".xr-var-item {\n",
       "  display: contents;\n",
       "}\n",
       "\n",
       ".xr-var-item > div,\n",
       ".xr-var-item label,\n",
       ".xr-var-item > .xr-var-name span {\n",
       "  background-color: var(--xr-background-color-row-even);\n",
       "  margin-bottom: 0;\n",
       "}\n",
       "\n",
       ".xr-var-item > .xr-var-name:hover span {\n",
       "  padding-right: 5px;\n",
       "}\n",
       "\n",
       ".xr-var-list > li:nth-child(odd) > div,\n",
       ".xr-var-list > li:nth-child(odd) > label,\n",
       ".xr-var-list > li:nth-child(odd) > .xr-var-name span {\n",
       "  background-color: var(--xr-background-color-row-odd);\n",
       "}\n",
       "\n",
       ".xr-var-name {\n",
       "  grid-column: 1;\n",
       "}\n",
       "\n",
       ".xr-var-dims {\n",
       "  grid-column: 2;\n",
       "}\n",
       "\n",
       ".xr-var-dtype {\n",
       "  grid-column: 3;\n",
       "  text-align: right;\n",
       "  color: var(--xr-font-color2);\n",
       "}\n",
       "\n",
       ".xr-var-preview {\n",
       "  grid-column: 4;\n",
       "}\n",
       "\n",
       ".xr-index-preview {\n",
       "  grid-column: 2 / 5;\n",
       "  color: var(--xr-font-color2);\n",
       "}\n",
       "\n",
       ".xr-var-name,\n",
       ".xr-var-dims,\n",
       ".xr-var-dtype,\n",
       ".xr-preview,\n",
       ".xr-attrs dt {\n",
       "  white-space: nowrap;\n",
       "  overflow: hidden;\n",
       "  text-overflow: ellipsis;\n",
       "  padding-right: 10px;\n",
       "}\n",
       "\n",
       ".xr-var-name:hover,\n",
       ".xr-var-dims:hover,\n",
       ".xr-var-dtype:hover,\n",
       ".xr-attrs dt:hover {\n",
       "  overflow: visible;\n",
       "  width: auto;\n",
       "  z-index: 1;\n",
       "}\n",
       "\n",
       ".xr-var-attrs,\n",
       ".xr-var-data,\n",
       ".xr-index-data {\n",
       "  display: none;\n",
       "  background-color: var(--xr-background-color) !important;\n",
       "  padding-bottom: 5px !important;\n",
       "}\n",
       "\n",
       ".xr-var-attrs-in:checked ~ .xr-var-attrs,\n",
       ".xr-var-data-in:checked ~ .xr-var-data,\n",
       ".xr-index-data-in:checked ~ .xr-index-data {\n",
       "  display: block;\n",
       "}\n",
       "\n",
       ".xr-var-data > table {\n",
       "  float: right;\n",
       "}\n",
       "\n",
       ".xr-var-name span,\n",
       ".xr-var-data,\n",
       ".xr-index-name div,\n",
       ".xr-index-data,\n",
       ".xr-attrs {\n",
       "  padding-left: 25px !important;\n",
       "}\n",
       "\n",
       ".xr-attrs,\n",
       ".xr-var-attrs,\n",
       ".xr-var-data,\n",
       ".xr-index-data {\n",
       "  grid-column: 1 / -1;\n",
       "}\n",
       "\n",
       "dl.xr-attrs {\n",
       "  padding: 0;\n",
       "  margin: 0;\n",
       "  display: grid;\n",
       "  grid-template-columns: 125px auto;\n",
       "}\n",
       "\n",
       ".xr-attrs dt,\n",
       ".xr-attrs dd {\n",
       "  padding: 0;\n",
       "  margin: 0;\n",
       "  float: left;\n",
       "  padding-right: 10px;\n",
       "  width: auto;\n",
       "}\n",
       "\n",
       ".xr-attrs dt {\n",
       "  font-weight: normal;\n",
       "  grid-column: 1;\n",
       "}\n",
       "\n",
       ".xr-attrs dt:hover span {\n",
       "  display: inline-block;\n",
       "  background: var(--xr-background-color);\n",
       "  padding-right: 10px;\n",
       "}\n",
       "\n",
       ".xr-attrs dd {\n",
       "  grid-column: 2;\n",
       "  white-space: pre-wrap;\n",
       "  word-break: break-all;\n",
       "}\n",
       "\n",
       ".xr-icon-database,\n",
       ".xr-icon-file-text2,\n",
       ".xr-no-icon {\n",
       "  display: inline-block;\n",
       "  vertical-align: middle;\n",
       "  width: 1em;\n",
       "  height: 1.5em !important;\n",
       "  stroke-width: 0;\n",
       "  stroke: currentColor;\n",
       "  fill: currentColor;\n",
       "}\n",
       "</style><pre class='xr-text-repr-fallback'>&lt;xarray.DataArray &#x27;Sentinel-1 histogram [dB]&#x27; (Polarization: 2,\n",
       "                                               Backscatter: 6000)&gt;\n",
       "array([[  12821,      97,      90, ...,   26124,   26192, 8555872],\n",
       "       [ 320412,    2327,    2451, ...,    1170,    1159,  353972]],\n",
       "      dtype=int32)\n",
       "Coordinates:\n",
       "  * Backscatter     (Backscatter) float64 -49.99 -49.98 -49.97 ... 9.985 9.995\n",
       "    left_bin_edge   (Backscatter) float64 -50.0 -49.99 -49.98 ... 9.97 9.98 9.99\n",
       "    right_bin_edge  (Backscatter) float64 -49.99 -49.98 -49.97 ... 9.99 10.0\n",
       "  * Polarization    (Polarization) object &#x27;VV&#x27; &#x27;VH&#x27;\n",
       "Attributes:\n",
       "    subset:   train</pre><div class='xr-wrap' style='display:none'><div class='xr-header'><div class='xr-obj-type'>xarray.DataArray</div><div class='xr-array-name'>'Sentinel-1 histogram [dB]'</div><ul class='xr-dim-list'><li><span class='xr-has-index'>Polarization</span>: 2</li><li><span class='xr-has-index'>Backscatter</span>: 6000</li></ul></div><ul class='xr-sections'><li class='xr-section-item'><div class='xr-array-wrap'><input id='section-01c59508-92c4-428b-bbda-c36e8de0f4ef' class='xr-array-in' type='checkbox' checked><label for='section-01c59508-92c4-428b-bbda-c36e8de0f4ef' title='Show/hide data repr'><svg class='icon xr-icon-database'><use xlink:href='#icon-database'></use></svg></label><div class='xr-array-preview xr-preview'><span>12821 97 90 88 75 86 780 91 ... 1165 1219 1151 1148 1170 1159 353972</span></div><div class='xr-array-data'><pre>array([[  12821,      97,      90, ...,   26124,   26192, 8555872],\n",
       "       [ 320412,    2327,    2451, ...,    1170,    1159,  353972]],\n",
       "      dtype=int32)</pre></div></div></li><li class='xr-section-item'><input id='section-ae89f744-eb9d-4d9c-a248-e67476d1545e' class='xr-section-summary-in' type='checkbox'  checked><label for='section-ae89f744-eb9d-4d9c-a248-e67476d1545e' class='xr-section-summary' >Coordinates: <span>(4)</span></label><div class='xr-section-inline-details'></div><div class='xr-section-details'><ul class='xr-var-list'><li class='xr-var-item'><div class='xr-var-name'><span class='xr-has-index'>Backscatter</span></div><div class='xr-var-dims'>(Backscatter)</div><div class='xr-var-dtype'>float64</div><div class='xr-var-preview xr-preview'>-49.99 -49.98 ... 9.985 9.995</div><input id='attrs-e59102dc-7786-41c6-9fbd-62ce091962b0' class='xr-var-attrs-in' type='checkbox' disabled><label for='attrs-e59102dc-7786-41c6-9fbd-62ce091962b0' title='Show/Hide attributes'><svg class='icon xr-icon-file-text2'><use xlink:href='#icon-file-text2'></use></svg></label><input id='data-dfc82c14-49f9-4a29-b9a8-8ffe2cb807d8' class='xr-var-data-in' type='checkbox'><label for='data-dfc82c14-49f9-4a29-b9a8-8ffe2cb807d8' title='Show/Hide data repr'><svg class='icon xr-icon-database'><use xlink:href='#icon-database'></use></svg></label><div class='xr-var-attrs'><dl class='xr-attrs'></dl></div><div class='xr-var-data'><pre>array([-49.995, -49.985, -49.975, ...,   9.975,   9.985,   9.995])</pre></div></li><li class='xr-var-item'><div class='xr-var-name'><span>left_bin_edge</span></div><div class='xr-var-dims'>(Backscatter)</div><div class='xr-var-dtype'>float64</div><div class='xr-var-preview xr-preview'>-50.0 -49.99 -49.98 ... 9.98 9.99</div><input id='attrs-3327432a-dfc0-4f3b-ba2e-6913bde84e01' class='xr-var-attrs-in' type='checkbox' disabled><label for='attrs-3327432a-dfc0-4f3b-ba2e-6913bde84e01' title='Show/Hide attributes'><svg class='icon xr-icon-file-text2'><use xlink:href='#icon-file-text2'></use></svg></label><input id='data-9dc9d871-d81a-4c0b-b008-eca9710978a3' class='xr-var-data-in' type='checkbox'><label for='data-9dc9d871-d81a-4c0b-b008-eca9710978a3' title='Show/Hide data repr'><svg class='icon xr-icon-database'><use xlink:href='#icon-database'></use></svg></label><div class='xr-var-attrs'><dl class='xr-attrs'></dl></div><div class='xr-var-data'><pre>array([-50.  , -49.99, -49.98, ...,   9.97,   9.98,   9.99])</pre></div></li><li class='xr-var-item'><div class='xr-var-name'><span>right_bin_edge</span></div><div class='xr-var-dims'>(Backscatter)</div><div class='xr-var-dtype'>float64</div><div class='xr-var-preview xr-preview'>-49.99 -49.98 -49.97 ... 9.99 10.0</div><input id='attrs-a57ea7f1-6fab-4c8e-909b-48eb8c76a4cf' class='xr-var-attrs-in' type='checkbox' disabled><label for='attrs-a57ea7f1-6fab-4c8e-909b-48eb8c76a4cf' title='Show/Hide attributes'><svg class='icon xr-icon-file-text2'><use xlink:href='#icon-file-text2'></use></svg></label><input id='data-ed40f047-ffc0-4b2a-8318-d5787613a69b' class='xr-var-data-in' type='checkbox'><label for='data-ed40f047-ffc0-4b2a-8318-d5787613a69b' title='Show/Hide data repr'><svg class='icon xr-icon-database'><use xlink:href='#icon-database'></use></svg></label><div class='xr-var-attrs'><dl class='xr-attrs'></dl></div><div class='xr-var-data'><pre>array([-49.99, -49.98, -49.97, ...,   9.98,   9.99,  10.  ])</pre></div></li><li class='xr-var-item'><div class='xr-var-name'><span class='xr-has-index'>Polarization</span></div><div class='xr-var-dims'>(Polarization)</div><div class='xr-var-dtype'>object</div><div class='xr-var-preview xr-preview'>&#x27;VV&#x27; &#x27;VH&#x27;</div><input id='attrs-70feb350-10e7-4d01-833e-441c5c5ea12e' class='xr-var-attrs-in' type='checkbox' disabled><label for='attrs-70feb350-10e7-4d01-833e-441c5c5ea12e' title='Show/Hide attributes'><svg class='icon xr-icon-file-text2'><use xlink:href='#icon-file-text2'></use></svg></label><input id='data-84149b6b-c406-4107-9a94-3d6eb8e96e38' class='xr-var-data-in' type='checkbox'><label for='data-84149b6b-c406-4107-9a94-3d6eb8e96e38' title='Show/Hide data repr'><svg class='icon xr-icon-database'><use xlink:href='#icon-database'></use></svg></label><div class='xr-var-attrs'><dl class='xr-attrs'></dl></div><div class='xr-var-data'><pre>array([&#x27;VV&#x27;, &#x27;VH&#x27;], dtype=object)</pre></div></li></ul></div></li><li class='xr-section-item'><input id='section-c850a84c-d5dd-41da-a837-e4b3160b72a0' class='xr-section-summary-in' type='checkbox'  ><label for='section-c850a84c-d5dd-41da-a837-e4b3160b72a0' class='xr-section-summary' >Indexes: <span>(2)</span></label><div class='xr-section-inline-details'></div><div class='xr-section-details'><ul class='xr-var-list'><li class='xr-var-item'><div class='xr-index-name'><div>Backscatter</div></div><div class='xr-index-preview'>PandasIndex</div><div></div><input id='index-362fa7ea-6ff6-4b6d-b1ba-737bd5a34c20' class='xr-index-data-in' type='checkbox'/><label for='index-362fa7ea-6ff6-4b6d-b1ba-737bd5a34c20' title='Show/Hide index repr'><svg class='icon xr-icon-database'><use xlink:href='#icon-database'></use></svg></label><div class='xr-index-data'><pre>PandasIndex(Index([            -49.995,             -49.985, -49.974999999999994,\n",
       "       -49.964999999999996,             -49.955,             -49.945,\n",
       "       -49.934999999999995,             -49.925,             -49.915,\n",
       "       -49.904999999999994,\n",
       "       ...\n",
       "                     9.905,   9.915000000000004,   9.925000000000002,\n",
       "                     9.935,   9.944999999999999,   9.955000000000004,\n",
       "         9.965000000000002,               9.975,   9.985000000000005,\n",
       "         9.995000000000003],\n",
       "      dtype=&#x27;float64&#x27;, name=&#x27;Backscatter&#x27;, length=6000))</pre></div></li><li class='xr-var-item'><div class='xr-index-name'><div>Polarization</div></div><div class='xr-index-preview'>PandasIndex</div><div></div><input id='index-8013943c-13c8-4acd-a518-23903c3fee8d' class='xr-index-data-in' type='checkbox'/><label for='index-8013943c-13c8-4acd-a518-23903c3fee8d' title='Show/Hide index repr'><svg class='icon xr-icon-database'><use xlink:href='#icon-database'></use></svg></label><div class='xr-index-data'><pre>PandasIndex(Index([&#x27;VV&#x27;, &#x27;VH&#x27;], dtype=&#x27;object&#x27;, name=&#x27;Polarization&#x27;))</pre></div></li></ul></div></li><li class='xr-section-item'><input id='section-07c03b63-0fc9-439a-a7cb-25dac1c65006' class='xr-section-summary-in' type='checkbox'  checked><label for='section-07c03b63-0fc9-439a-a7cb-25dac1c65006' class='xr-section-summary' >Attributes: <span>(1)</span></label><div class='xr-section-inline-details'></div><div class='xr-section-details'><dl class='xr-attrs'><dt><span>subset :</span></dt><dd>train</dd></dl></div></li></ul></div></div>"
      ],
      "text/plain": [
       "<xarray.DataArray 'Sentinel-1 histogram [dB]' (Polarization: 2,\n",
       "                                               Backscatter: 6000)>\n",
       "array([[  12821,      97,      90, ...,   26124,   26192, 8555872],\n",
       "       [ 320412,    2327,    2451, ...,    1170,    1159,  353972]],\n",
       "      dtype=int32)\n",
       "Coordinates:\n",
       "  * Backscatter     (Backscatter) float64 -49.99 -49.98 -49.97 ... 9.985 9.995\n",
       "    left_bin_edge   (Backscatter) float64 -50.0 -49.99 -49.98 ... 9.97 9.98 9.99\n",
       "    right_bin_edge  (Backscatter) float64 -49.99 -49.98 -49.97 ... 9.99 10.0\n",
       "  * Polarization    (Polarization) object 'VV' 'VH'\n",
       "Attributes:\n",
       "    subset:   train"
      ]
     },
     "execution_count": 16,
     "metadata": {},
     "output_type": "execute_result"
    }
   ],
   "source": [
    "saved_histogram = xr.load_dataset(\n",
    "    join(dataset_manager.project_directory, \"stats\", \"S1_train_dataset_histogram.nc\")\n",
    ")\n",
    "saved_histogram = saved_histogram[\"Sentinel-1 histogram [dB]\"]\n",
    "saved_histogram"
   ]
  },
  {
   "cell_type": "code",
   "execution_count": 17,
   "id": "ee776811-24b1-416d-8861-0d8db1ac781f",
   "metadata": {},
   "outputs": [],
   "source": [
    "with plt.ioff():\n",
    "    fig_2, axs_2 = plt.subplots(figsize=(13, 5))"
   ]
  },
  {
   "cell_type": "code",
   "execution_count": 20,
   "id": "38cc085c-087d-4d43-a371-48de0e07d468",
   "metadata": {},
   "outputs": [
    {
     "data": {
      "text/plain": [
       "<matplotlib.legend.Legend at 0x7f231e661940>"
      ]
     },
     "execution_count": 20,
     "metadata": {},
     "output_type": "execute_result"
    }
   ],
   "source": [
    "stairplot_2_VV = axs_2.stairs(\n",
    "    values=saved_histogram.values[0],\n",
    "    edges=bins,\n",
    "    alpha=0.5,\n",
    "    color=\"lightsteelblue\",\n",
    "    edgecolor=\"steelblue\",\n",
    "    fill=True,\n",
    "    linewidth=0.5,\n",
    "    label=\"VV\"\n",
    ")\n",
    "stairplot_2_VH = axs_2.stairs(\n",
    "    values=saved_histogram.values[1],\n",
    "    edges=bins,\n",
    "    alpha=0.5,\n",
    "    color=\"orange\",\n",
    "    edgecolor=\"red\",\n",
    "    fill=True,\n",
    "    linewidth=0.5,\n",
    "    label=\"VH\"\n",
    ")\n",
    "axs_2.set_ylabel(\"N pixels\")\n",
    "axs_2.set_xlabel(\"Backscatter [dB]\")\n",
    "axs_2.set_title(f\"Sentinel-1 dataset histogram\", fontsize=14)\n",
    "axs_2.legend(title=\"Polarization\")"
   ]
  },
  {
   "cell_type": "code",
   "execution_count": 21,
   "id": "e0b32223-b34e-44ae-a7d2-05832cde0a76",
   "metadata": {},
   "outputs": [
    {
     "data": {
      "image/png": "[encoded data removed]",
      "text/plain": [
       "<Figure size 1300x500 with 1 Axes>"
      ]
     },
     "metadata": {},
     "output_type": "display_data"
    }
   ],
   "source": [
    "display(fig_2)"
   ]
  },
  {
   "cell_type": "code",
   "execution_count": 22,
   "id": "ccde27f6-5a25-4d6f-88b0-ac563d0cbdc9",
   "metadata": {},
   "outputs": [],
   "source": [
    "plt.close(fig_2)"
   ]
  },
  {
   "cell_type": "code",
   "execution_count": null,
   "id": "3feae695-5ce3-4856-8ca5-757c7312ffd3",
   "metadata": {},
   "outputs": [],
   "source": []
  }
 ],
 "metadata": {
  "kernelspec": {
   "display_name": "spatiotemporal",
   "language": "python",
   "name": "spatiotemporal"
  },
  "language_info": {
   "codemirror_mode": {
    "name": "ipython",
    "version": 3
   },
   "file_extension": ".py",
   "mimetype": "text/x-python",
   "name": "python",
   "nbconvert_exporter": "python",
   "pygments_lexer": "ipython3",
   "version": "3.8.10"
  },
  "widgets": {
   "application/vnd.jupyter.widget-state+json": {
    "state": {},
    "version_major": 2,
    "version_minor": 0
   }
  }
 },
 "nbformat": 4,
 "nbformat_minor": 5
}
