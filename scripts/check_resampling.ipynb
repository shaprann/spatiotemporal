{
 "cells": [
  {
   "cell_type": "code",
   "execution_count": 4,
   "id": "7f3d40c7-94cd-48b6-8109-c92ffa601b31",
   "metadata": {},
   "source": [
    "import relative_imports\n",
    "from spatiotemporal.SEN12MSCRTS import DatasetManager\n",
    "from tqdm.notebook import tqdm\n",
    "import pandas as pd\n",
    "import numpy as np"
   ],
   "outputs": []
  },
  {
   "cell_type": "code",
   "execution_count": 2,
   "id": "d618a7fc-6f88-4b18-878f-0ee2ca66aeee",
   "metadata": {},
   "source": [
    "root_dir='/LOCAL2/shvl/datasets/cloud_removal/SEN12MSCRTS'"
   ],
   "outputs": []
  },
  {
   "cell_type": "code",
   "execution_count": 3,
   "id": "f1b5ad5c-2da4-4d66-ab9b-cb69f79ef496",
   "metadata": {},
   "source": [
    "dataset_manager = DatasetManager(\n",
    "    root_dir=root_dir\n",
    ")\n",
    "# dataset_manager.load_dataset()\n",
    "# dataset_manager.save_to_file()\n",
    "dataset_manager.load_from_file()"
   ],
   "outputs": []
  },
  {
   "cell_type": "markdown",
   "id": "308060f0-9c78-497a-bfa6-df5aa97e59df",
   "metadata": {},
   "source": [
    "# Check resampling\n",
    "\n",
    "All Sentinel-1 and Sentinel-2 images that belong to the same patch must be resampled to the same grid. We will check whether this holds for all patches in the dataset.\n",
    "\n",
    "Note, that if a single patch is affected across all timesteps, it most certainly means that the whole tile is affected.\n",
    "\n",
    "Thus, we check individual patches, but extend these results to the whole tile where the patches come from."
   ]
  },
  {
   "cell_type": "markdown",
   "id": "9331716d-6e1e-4baf-bd46-81953acae75b",
   "metadata": {},
   "source": [
    "### Read geotransform and crs"
   ]
  },
  {
   "cell_type": "code",
   "execution_count": 6,
   "id": "92a16d22-d105-4430-b334-befba91ba72e",
   "metadata": {},
   "source": [
    "# with dataset_manager.stats.progressbar(tqdm), dataset_manager.stats.force_overwrite(), dataset_manager.stats.force_compute():\n",
    "with dataset_manager.stats.progressbar(tqdm):\n",
    "    crs_transform_df = dataset_manager.stats.crs_transform\n",
    "\n",
    "crs_transform_df"
   ],
   "outputs": []
  },
  {
   "cell_type": "code",
   "execution_count": 7,
   "id": "fe63b269-72d7-470f-94a5-d10bcfa82d16",
   "metadata": {},
   "source": [
    "print(f\"CRS and Transforms missing: \\033[1m{dataset_manager.data.index.difference(crs_transform_df.index).size}\")"
   ],
   "outputs": []
  },
  {
   "cell_type": "markdown",
   "id": "4ea9fff1-c4a0-4c04-9fc0-d54a33242e3d",
   "metadata": {},
   "source": [
    "### Check Sentinel-2"
   ]
  },
  {
   "cell_type": "code",
   "execution_count": 10,
   "id": "8b1da40d-3410-4a63-a0e1-9171b23513ac",
   "metadata": {},
   "source": [
    "with dataset_manager.stats.progressbar(tqdm), dataset_manager.stats.force_overwrite(), dataset_manager.stats.force_compute():\n",
    "    s2_tiles_resampled = dataset_manager.stats.S2_resampled\n",
    "    \n",
    "s2_tiles_resampled"
   ],
   "outputs": []
  },
  {
   "cell_type": "markdown",
   "id": "3b5ad832-9301-4834-ac8e-75c98b7c5ef0",
   "metadata": {},
   "source": [
    "### Check Sentinel-1"
   ]
  },
  {
   "cell_type": "code",
   "execution_count": 11,
   "id": "1af5412c-ad8d-42c8-98b4-4a5224f252d3",
   "metadata": {},
   "source": [
    "with dataset_manager.stats.progressbar(tqdm), dataset_manager.stats.force_overwrite(), dataset_manager.stats.force_compute():\n",
    "    s1_tiles_resampled = dataset_manager.stats.S1_resampled\n",
    "    \n",
    "s1_tiles_resampled"
   ],
   "outputs": []
  }
 ],
 "metadata": {
  "kernelspec": {
   "display_name": "spatiotemporal",
   "language": "python",
   "name": "spatiotemporal"
  },
  "language_info": {
   "codemirror_mode": {
    "name": "ipython",
    "version": 3
   },
   "file_extension": ".py",
   "mimetype": "text/x-python",
   "name": "python",
   "nbconvert_exporter": "python",
   "pygments_lexer": "ipython3",
   "version": "3.8.10"
  }
 },
 "nbformat": 4,
 "nbformat_minor": 5
}
